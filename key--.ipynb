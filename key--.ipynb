{
 "cells": [
  {
   "cell_type": "markdown",
   "id": "26d1da94-79b9-47ca-b1f4-fa5b924fcc9e",
   "metadata": {},
   "source": [
    "Q.1.  Explain the significance of Python keywords and provide examples of five keywords\n",
    "Ans: Python key words are reserved words which are predefined. The significane of python key word are: Predefined funtionality; Consistency and readability; Avoiding name clashes.\n",
    "Here are the example of five key words are: print,if,input,for,def"
   ]
  },
  {
   "cell_type": "markdown",
   "id": "01eff566-f65b-401f-a9de-fc3eec811371",
   "metadata": {},
   "source": [
    "Q.2. Describe the rules for defining identifiers in Python and provide an example\n",
    "Ans: I. Valid Characters: Identifiers can contain letters (both uppercase and lowercase), digits, and underscore\n",
    "II. Start with a Letter or Underscore: Identifiers must start with a letter (a-z, A-Z) or an underscore (_). They cannot start with a digit.\n",
    "III. Case Sensitivity: Python is case-sensitive. This means that my_variable, My_Variable, and MY_VARIABLE are all different identifiers.\n",
    "IV. Reserved Words: Identifiers cannot be Python keywords or reserved words. These words have predefined meanings in Python and cannot be used as identifiers.\n",
    "V. No Special Characters: Identifiers cannot contain special characters such as !, @, #, $, %, etc. except for the underscore (_).\n",
    "VI. No Spaces: Identifiers cannot contain spaces. If you need to represent multiple words, you can use underscores or follow the convention of camelCase or snake_case.\n",
    "Example: my_name=\"sanidul\"----- valid\n",
    "         1st-name=\"sanidul\" ---- not valid\n",
    "         _marks=80 ------ valid\n",
    "         id@e=1010 ------ not valid\n",
    "         sub marks=(50,55,80) ----not valid\n",
    "         print = \"hello\" ---- not valid\n",
    "         NAME= \"Ali\" ------valid\n",
    "         "
   ]
  },
  {
   "cell_type": "markdown",
   "id": "68e3c200-c322-4b25-83aa-7ab15ce0f542",
   "metadata": {},
   "source": [
    "Q.3. What are comments in Python, and why are they useful6 Provide an example\n",
    "Ans: Comments in Python are text annotations within the source code that are ignored by the Python interpreter during execution. They are used to add explanatory notes, documentations, or reminders within the code to make it more readable and understandable for humans.\n",
    "Example: # This is a single-line comment\n",
    "  ''' This are multiline comment.\n",
    "  we use triple quotes for this '''\n",
    "  "
   ]
  },
  {
   "cell_type": "markdown",
   "id": "c7a1a47a-1a32-4f68-a952-4286da7b4bfa",
   "metadata": {},
   "source": [
    "Q.4. Why is proper indentation important in Python.\n",
    "Ans: Proper indentation is crucial in Python because it determines the structure and execution flow of the code. Unlike many other programming languages, Python uses indentation to define block structures such as loops, conditional statements, function definitions, and classes."
   ]
  },
  {
   "cell_type": "markdown",
   "id": "8c9e5594-e707-4788-b658-d56182bea02e",
   "metadata": {},
   "source": [
    "Q.5. What happens if indentation is incorrect in Python.\n",
    "Ans: If indentation is incorrect in Python, it can lead to several issues, ranging from syntax errors to logical errors in the code. Since Python uses indentation to determine the structure and nesting of code blocks, any deviations from the expected indentation levels can result in unexpected behavior or code that fails to execute properly."
   ]
  },
  {
   "cell_type": "markdown",
   "id": "e096fa54-2201-4a4f-8e18-b19e43db3da9",
   "metadata": {},
   "source": [
    "Q.6. Differentiate 0etween expression and statement in Python with examples.\n",
    "Ans: An expression is a combination of values, variables, operators, and function calls that evaluates to a single value. Essentially, an expression produces a result. Example: sum = 50+50\n",
    "A statement is a complete unit of execution that performs a specific action. Statements in Python can span multiple lines and typically instruct the interpreter to perform some operation. Unlike expressions, statements do not necessarily produce a value. Examples of statements : for i in range(5):\n",
    "                                                                                           print(i)"
   ]
  },
  {
   "cell_type": "code",
   "execution_count": null,
   "id": "39585518-2695-4cc7-ae91-d501d2413068",
   "metadata": {},
   "outputs": [],
   "source": []
  }
 ],
 "metadata": {
  "kernelspec": {
   "display_name": "Python 3 (ipykernel)",
   "language": "python",
   "name": "python3"
  },
  "language_info": {
   "codemirror_mode": {
    "name": "ipython",
    "version": 3
   },
   "file_extension": ".py",
   "mimetype": "text/x-python",
   "name": "python",
   "nbconvert_exporter": "python",
   "pygments_lexer": "ipython3",
   "version": "3.10.8"
  }
 },
 "nbformat": 4,
 "nbformat_minor": 5
}
